{
 "cells": [
  {
   "cell_type": "code",
   "execution_count": 2,
   "id": "4446e182-dc79-45a8-a8c3-bde2f43c1f8d",
   "metadata": {},
   "outputs": [
    {
     "name": "stdout",
     "output_type": "stream",
     "text": [
      "ToolsBetaMessage(id='msg_01RDcoLs6T97QrSHNdaCcxYX', content=[TextBlock(text='<thinking>\\nTo answer this question, the get_weather function seems relevant since it returns the current weather for a given location.\\n\\nThe get_weather function requires a single parameter:\\n- location: This should be provided in the format \"City, State\"\\n\\nLooking at the original question, the user has provided a location of \"San Francisco\", but did not specify the state. However, since San Francisco is a well-known city in California, I can reasonably infer the full location parameter value of \"San Francisco, CA\".\\n</thinking>', type='text'), ToolUseBlock(id='toolu_0152qqkBVfjLa4W9LQpWj5wu', input={'location': 'San Francisco, CA'}, name='get_weather', type='tool_use')], model='claude-3-opus-20240229', role='assistant', stop_reason='tool_use', stop_sequence=None, type='message', usage=Usage(input_tokens=488, output_tokens=169))\n"
     ]
    }
   ],
   "source": [
    "import anthropic\n",
    "\n",
    "client = anthropic.Anthropic(api_key=\"sk-\")\n",
    "\n",
    "response = client.beta.tools.messages.create(\n",
    "    model=\"claude-3-opus-20240229\",\n",
    "    max_tokens=1024,\n",
    "    tools=[\n",
    "        {\n",
    "            \"name\": \"get_weather\",\n",
    "            \"description\": \"Get the current weather in a given location\",\n",
    "            \"input_schema\": {\n",
    "                \"type\": \"object\",\n",
    "                \"properties\": {\n",
    "                    \"location\": {\n",
    "                        \"type\": \"string\",\n",
    "                        \"description\": \"The city and state, e.g. San Francisco, CA\",\n",
    "                    }\n",
    "                },\n",
    "                \"required\": [\"location\"],\n",
    "            },\n",
    "        }\n",
    "    ],\n",
    "    messages=[{\"role\": \"user\", \"content\": \"What's the weather like in San Francisco?\"}],\n",
    ")\n",
    "print(response)"
   ]
  },
  {
   "cell_type": "code",
   "execution_count": 3,
   "id": "67cf76d5-7dab-4e22-9f13-44ba9385db93",
   "metadata": {},
   "outputs": [
    {
     "name": "stdout",
     "output_type": "stream",
     "text": [
      "ToolsBetaMessage(id='msg_016VPHLb9TuVFMSmeggqyaQ5', content=[TextBlock(text='The current weather in San Francisco, CA is 65 degrees Celsius.', type='text')], model='claude-3-opus-20240229', role='assistant', stop_reason='end_turn', stop_sequence=None, type='message', usage=Usage(input_tokens=641, output_tokens=20))\n"
     ]
    }
   ],
   "source": [
    "response = client.beta.tools.messages.create(\n",
    "    model=\"claude-3-opus-20240229\",\n",
    "    max_tokens=1024,\n",
    "    tools=[\n",
    "        {\n",
    "            \"name\": \"get_weather\",\n",
    "            \"description\": \"Get the current weather in a given location\",\n",
    "            \"input_schema\": {\n",
    "                \"type\": \"object\",\n",
    "                \"properties\": {\n",
    "                    \"location\": {\n",
    "                        \"type\": \"string\",\n",
    "                        \"description\": \"The city and state, e.g. San Francisco, CA\"\n",
    "                    },\n",
    "                    \"unit\": {\n",
    "                        \"type\": \"string\",\n",
    "                        \"enum\": [\"celsius\", \"fahrenheit\"],\n",
    "                        \"description\": \"The unit of temperature, either 'celsius' or 'fahrenheit'\"\n",
    "                    }\n",
    "                },\n",
    "                \"required\": [\"location\"]\n",
    "            }\n",
    "        }\n",
    "    ],\n",
    "    messages=[\n",
    "        {\n",
    "            \"role\": \"user\",\n",
    "            \"content\": \"What's the weather like in San Francisco?\"\n",
    "        },\n",
    "        {\n",
    "            \"role\": \"assistant\",\n",
    "            \"content\": [\n",
    "                {\n",
    "                    \"type\": \"text\",\n",
    "                    \"text\": \"<thinking>I need to use get_weather, and the user wants SF, which is likely San Francisco, CA.</thinking>\"\n",
    "                },\n",
    "                {\n",
    "                    \"type\": \"tool_use\",\n",
    "                    \"id\": \"toolu_01A09q90qw90lq917835lq9\",\n",
    "                    \"name\": \"get_weather\",\n",
    "                    \"input\": {\"location\": \"San Francisco, CA\", \"unit\": \"celsius\"} \n",
    "                }\n",
    "            ]\n",
    "        },\n",
    "        {\n",
    "            \"role\": \"user\",\n",
    "            \"content\": [\n",
    "                {\n",
    "                    \"type\": \"tool_result\",\n",
    "                    \"tool_use_id\": \"toolu_01A09q90qw90lq917835lq9\", # from the API response\n",
    "                    \"content\": \"65 degrees\" # from running your tool\n",
    "                }\n",
    "            ]\n",
    "        }\n",
    "    ]\n",
    ")\n",
    "\n",
    "print(response)"
   ]
  },
  {
   "cell_type": "code",
   "execution_count": 5,
   "id": "d6db6a13-f8b2-47df-924c-bc83fbce9cf4",
   "metadata": {},
   "outputs": [
    {
     "name": "stdout",
     "output_type": "stream",
     "text": [
      "ToolsBetaMessage(id='msg_018hUjcqMJQVXRLTikXjYAhU', content=[TextBlock(text='<thinking>\\nThe user has requested the current weather and time in New York. Looking at the available tools, get_weather and get_time both seem relevant.\\n\\nFor get_weather, the required \"location\" parameter is provided by the user - they specified New York. However, the \"unit\" parameter is not specified. It\\'s an optional parameter though, so we can still proceed with the call to get_weather without it.\\n\\nFor get_time, the required \"timezone\" parameter is not directly provided. However, given the user specified New York, we can infer they are asking about the New York time zone, which is America/New_York. So we have enough information to also make the get_time call.\\n</thinking>', type='text'), ToolUseBlock(id='toolu_016zUFpJRZssJQadHtpsVNfY', input={'location': 'New York, NY'}, name='get_weather', type='tool_use'), ToolUseBlock(id='toolu_01S6CquqWwaQTxiwu2SHBKdR', input={'timezone': 'America/New_York'}, name='get_time', type='tool_use')], model='claude-3-opus-20240229', role='assistant', stop_reason='tool_use', stop_sequence=None, type='message', usage=Usage(input_tokens=617, output_tokens=250))\n"
     ]
    }
   ],
   "source": [
    "import anthropic\n",
    "client = anthropic.Anthropic(api_key=\"sk-\")\n",
    "\n",
    "response = client.beta.tools.messages.create(\n",
    "    model=\"claude-3-opus-20240229\",\n",
    "    max_tokens=1024,\n",
    "    tools=[\n",
    "        {\n",
    "            \"name\": \"get_weather\",\n",
    "            \"description\": \"Get the current weather in a given location\",\n",
    "            \"input_schema\": {\n",
    "                \"type\": \"object\",\n",
    "                \"properties\": {\n",
    "                    \"location\": {\n",
    "                        \"type\": \"string\",\n",
    "                        \"description\": \"The city and state, e.g. San Francisco, CA\"\n",
    "                    },\n",
    "                    \"unit\": {\n",
    "                        \"type\": \"string\",\n",
    "                        \"enum\": [\"celsius\", \"fahrenheit\"],\n",
    "                        \"description\": \"The unit of temperature, either 'celsius' or 'fahrenheit'\"\n",
    "                    }\n",
    "                },\n",
    "                \"required\": [\"location\"]\n",
    "            }\n",
    "        },\n",
    "        {\n",
    "            \"name\": \"get_time\",\n",
    "            \"description\": \"Get the current time in a given time zone\",\n",
    "            \"input_schema\": {\n",
    "                \"type\": \"object\",\n",
    "                \"properties\": {\n",
    "                    \"timezone\": {\n",
    "                        \"type\": \"string\",\n",
    "                        \"description\": \"The IANA time zone name, e.g. America/Los_Angeles\"\n",
    "                    }\n",
    "                },\n",
    "                \"required\": [\"timezone\"]\n",
    "            }\n",
    "        }\n",
    "    ],\n",
    "    messages=[\n",
    "        {\n",
    "            \"role\": \"user\",\n",
    "            \"content\": \"What is the weather like right now in New York? Also what time is it there?\"\n",
    "        }\n",
    "    ]\n",
    ")\n",
    "print(response)"
   ]
  },
  {
   "cell_type": "code",
   "execution_count": null,
   "id": "924d538d-d000-44b2-9616-7c8fcd71be61",
   "metadata": {},
   "outputs": [],
   "source": []
  }
 ],
 "metadata": {
  "kernelspec": {
   "display_name": "Python 3 (ipykernel)",
   "language": "python",
   "name": "python3"
  },
  "language_info": {
   "codemirror_mode": {
    "name": "ipython",
    "version": 3
   },
   "file_extension": ".py",
   "mimetype": "text/x-python",
   "name": "python",
   "nbconvert_exporter": "python",
   "pygments_lexer": "ipython3",
   "version": "3.11.8"
  }
 },
 "nbformat": 4,
 "nbformat_minor": 5
}
